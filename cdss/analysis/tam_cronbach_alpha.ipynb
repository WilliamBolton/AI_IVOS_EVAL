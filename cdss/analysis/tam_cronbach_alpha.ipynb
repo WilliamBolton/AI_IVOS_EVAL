{
 "cells": [
  {
   "cell_type": "code",
   "execution_count": 1,
   "metadata": {},
   "outputs": [],
   "source": [
    "import pandas as pd \n",
    "import numpy as np\n",
    "import glob\n",
    "import os\n",
    "import math\n",
    "import scipy.stats as stats\n",
    "from scipy.stats import pearsonr\n",
    "from sklearn.decomposition import FactorAnalysis\n",
    "import pingouin as pg\n",
    "import semopy\n",
    "import statsmodels.api as sm\n",
    "from sklearn import linear_model\n",
    "from mlxtend.feature_selection import SequentialFeatureSelector\n",
    "\n",
    "from IPython.core.interactiveshell import InteractiveShell\n",
    "InteractiveShell.ast_node_interactivity = \"all\""
   ]
  },
  {
   "cell_type": "code",
   "execution_count": 2,
   "metadata": {},
   "outputs": [],
   "source": [
    "# Read CSV\n",
    "tam_df = pd.read_csv('tam_results/tam.csv')\n",
    "demographics = pd.read_csv('demographic_results/demographics_processed.csv')"
   ]
  },
  {
   "cell_type": "code",
   "execution_count": 3,
   "metadata": {},
   "outputs": [
    {
     "data": {
      "text/plain": [
       "\"# To int\\ntam_df['q28'] = tam_df['q28'].fillna(np.nan)\\ntam_df['q29'] = tam_df['q29'].fillna(np.nan)\\ntam_df['q28'] = tam_df['q28'].astype(int)\\ntam_df['q29'] = tam_df['q29'].astype(int)\""
      ]
     },
     "execution_count": 3,
     "metadata": {},
     "output_type": "execute_result"
    }
   ],
   "source": [
    "# Merge\n",
    "tam_df = pd.merge(tam_df, demographics[['user_id', 'user_archetype', 'age', 'sex_new', 'medical_speciality_new', 'grade_new', 'ai_familiarity_new']])\n",
    "# Move columns \n",
    "col = tam_df.pop('q28')\n",
    "tam_df.insert(23, col.name, col)\n",
    "col = tam_df.pop('q29')\n",
    "tam_df.insert(24, col.name, col)\n",
    "'''# To int\n",
    "tam_df['q28'] = tam_df['q28'].fillna(np.nan)\n",
    "tam_df['q29'] = tam_df['q29'].fillna(np.nan)\n",
    "tam_df['q28'] = tam_df['q28'].astype(int)\n",
    "tam_df['q29'] = tam_df['q29'].astype(int)'''\n",
    "# Update column names\n",
    "#AA_1\n",
    "tam_df.columns = ['user_id',\n",
    " 'user_archetype',\n",
    " 'ai_attitude',\n",
    " 'PU1',\n",
    " 'PU2',\n",
    " 'PU3',\n",
    " 'PU4',\n",
    " 'PU5',\n",
    " 'PU6',\n",
    " 'PU7',\n",
    " 'PU8',\n",
    " 'PEOU1',\n",
    " 'PU9',\n",
    " 'PEOU2',\n",
    " 'SE1',\n",
    " 'SE2',\n",
    " 'voluntary',\n",
    " 'SN1',\n",
    " 'SN2',\n",
    " 'prestige_image',\n",
    " 'PU10',\n",
    " 'PU11',\n",
    " 'BC1',\n",
    " 'BC2',\n",
    " 'BC3',\n",
    " 'clinical_workflow',\n",
    " 'infrastructure',\n",
    " 'intention',\n",
    " 'colleagues',\n",
    " 'PU12',\n",
    " 'final_comments',\n",
    " 'age_new',\n",
    " 'sex_new',\n",
    " 'medical_speciality_new',\n",
    " 'grade_new',\n",
    " 'ai_familiarity_new']\n",
    "\n",
    " # Get result columns \n",
    "tam_df_results = tam_df.iloc[:,2:30]"
   ]
  },
  {
   "cell_type": "code",
   "execution_count": 12,
   "metadata": {},
   "outputs": [],
   "source": [
    "# Get groups\n",
    "tam_groups = ['PU', 'PEOU', 'SE', 'SN', 'BC']"
   ]
  },
  {
   "cell_type": "code",
   "execution_count": 23,
   "metadata": {},
   "outputs": [
    {
     "name": "stdout",
     "output_type": "stream",
     "text": [
      "PU\n",
      "3.591269841269842\n",
      "0.3084118109246874\n",
      "PEOU\n",
      "3.8333333333333335\n",
      "0.20203050891044205\n",
      "SE\n",
      "4.059523809523809\n",
      "0.05050762722761036\n",
      "SN\n",
      "3.2023809523809526\n",
      "0.11785113019775781\n",
      "BC\n",
      "3.46031746031746\n",
      "0.6967585027731611\n"
     ]
    }
   ],
   "source": [
    "# Mean and SD\n",
    "for group in tam_groups:\n",
    "    group_df = tam_df_results.filter(regex=group)\n",
    "    print(group)\n",
    "    print(group_df.mean().mean())\n",
    "    print(group_df.mean().std())"
   ]
  },
  {
   "cell_type": "code",
   "execution_count": 15,
   "metadata": {},
   "outputs": [
    {
     "name": "stdout",
     "output_type": "stream",
     "text": [
      "Index(['PU1', 'PU2', 'PU3', 'PU4', 'PU5', 'PU6', 'PU7', 'PU8', 'PU9', 'PU10',\n",
      "       'PU11', 'PU12'],\n",
      "      dtype='object')\n",
      "Cronbach's alpha for PU: (0.8442116498764807, array([0.764, 0.906]))\n",
      "Index(['PEOU1', 'PEOU2'], dtype='object')\n",
      "Cronbach's alpha for PEOU: (0.5162659123055162, array([0.1 , 0.74]))\n",
      "Index(['SE1', 'SE2'], dtype='object')\n",
      "Cronbach's alpha for SE: (0.5137039937353172, array([0.095, 0.739]))\n",
      "Index(['SN1', 'SN2'], dtype='object')\n",
      "Cronbach's alpha for SN: (0.07116382505559682, array([-0.728,  0.501]))\n",
      "Index(['BC1', 'BC2', 'BC3'], dtype='object')\n",
      "Cronbach's alpha for BC: (0.39662947865265, array([-0.007,  0.655]))\n"
     ]
    }
   ],
   "source": [
    "# Cronbach's alpha\n",
    "for group in tam_groups:\n",
    "    group_df = tam_df_results.filter(regex=group)\n",
    "    if group_df.shape[1] > 1:\n",
    "        cronbach_alpha = pg.cronbach_alpha(group_df)\n",
    "        print(group_df.columns)\n",
    "        print(f\"Cronbach's alpha for {group}:\", cronbach_alpha)"
   ]
  }
 ],
 "metadata": {
  "kernelspec": {
   "display_name": "cdss",
   "language": "python",
   "name": "python3"
  },
  "language_info": {
   "codemirror_mode": {
    "name": "ipython",
    "version": 3
   },
   "file_extension": ".py",
   "mimetype": "text/x-python",
   "name": "python",
   "nbconvert_exporter": "python",
   "pygments_lexer": "ipython3",
   "version": "3.10.13"
  }
 },
 "nbformat": 4,
 "nbformat_minor": 2
}
